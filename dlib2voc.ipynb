{
 "cells": [
  {
   "cell_type": "code",
   "execution_count": 1,
   "metadata": {},
   "outputs": [],
   "source": [
    "import xml.etree.ElementTree as ET\n",
    "tree = ET.parse('dlib_sample.xml')\n",
    "root = tree.getroot()"
   ]
  },
  {
   "cell_type": "code",
   "execution_count": 2,
   "metadata": {},
   "outputs": [],
   "source": [
    "from pprint import pprint\n",
    "import os\n",
    "from pascal_voc_writer import Writer\n",
    "from PIL import Image"
   ]
  },
  {
   "cell_type": "code",
   "execution_count": 3,
   "metadata": {},
   "outputs": [],
   "source": [
    "images = root.find('images')"
   ]
  },
  {
   "cell_type": "code",
   "execution_count": 11,
   "metadata": {},
   "outputs": [
    {
     "name": "stdout",
     "output_type": "stream",
     "text": [
      "-------------------\n",
      "Folder: Images\n",
      "Path :  Images/1Img_1.jpg\n",
      "File name: 1Img_1\n",
      "File ext: .jpg\n",
      "-------------------\n",
      "Label: Moto2\n",
      "Size: None\n",
      "top: 665\n",
      "left: 1366\n",
      "width: 187\n",
      "height: 141\n",
      "-------------------\n",
      "\n",
      "Label: Moto2\n",
      "Size: None\n",
      "top: 607\n",
      "left: 1113\n",
      "width: 54\n",
      "height: 70\n",
      "-------------------\n",
      "\n",
      "Label: Moto2\n",
      "Size: None\n",
      "top: 389\n",
      "left: 738\n",
      "width: 337\n",
      "height: 282\n",
      "-------------------\n",
      "\n",
      "Label: Moto2\n",
      "Size: None\n",
      "top: 413\n",
      "left: 1171\n",
      "width: 707\n",
      "height: 230\n",
      "-------------------\n",
      "\n"
     ]
    },
    {
     "ename": "FileNotFoundError",
     "evalue": "[Errno 2] No such file or directory: 'Images/1Img_10.jpg'",
     "output_type": "error",
     "traceback": [
      "\u001b[0;31m---------------------------------------------------------------------------\u001b[0m",
      "\u001b[0;31mFileNotFoundError\u001b[0m                         Traceback (most recent call last)",
      "\u001b[0;32m<ipython-input-11-210eda3e47b3>\u001b[0m in \u001b[0;36m<module>\u001b[0;34m\u001b[0m\n\u001b[1;32m      6\u001b[0m     \u001b[0mfolder\u001b[0m \u001b[0;34m=\u001b[0m \u001b[0mos\u001b[0m\u001b[0;34m.\u001b[0m\u001b[0mpath\u001b[0m\u001b[0;34m.\u001b[0m\u001b[0mdirname\u001b[0m\u001b[0;34m(\u001b[0m\u001b[0mfilename\u001b[0m\u001b[0;34m)\u001b[0m\u001b[0;34m\u001b[0m\u001b[0m\n\u001b[1;32m      7\u001b[0m \u001b[0;34m\u001b[0m\u001b[0m\n\u001b[0;32m----> 8\u001b[0;31m     \u001b[0mimg\u001b[0m \u001b[0;34m=\u001b[0m \u001b[0mImage\u001b[0m\u001b[0;34m.\u001b[0m\u001b[0mopen\u001b[0m\u001b[0;34m(\u001b[0m\u001b[0mfilename\u001b[0m\u001b[0;34m)\u001b[0m\u001b[0;34m\u001b[0m\u001b[0m\n\u001b[0m\u001b[1;32m      9\u001b[0m     \u001b[0mwidth\u001b[0m\u001b[0;34m,\u001b[0m \u001b[0mheight\u001b[0m \u001b[0;34m=\u001b[0m \u001b[0mimg\u001b[0m\u001b[0;34m.\u001b[0m\u001b[0msize\u001b[0m\u001b[0;34m\u001b[0m\u001b[0m\n\u001b[1;32m     10\u001b[0m \u001b[0;34m\u001b[0m\u001b[0m\n",
      "\u001b[0;32m/mnt/DATA/.python_virtualenvs/.pyenv/versions/3.6.5_data_science/lib/python3.6/site-packages/PIL/Image.py\u001b[0m in \u001b[0;36mopen\u001b[0;34m(fp, mode)\u001b[0m\n\u001b[1;32m   2632\u001b[0m \u001b[0;34m\u001b[0m\u001b[0m\n\u001b[1;32m   2633\u001b[0m     \u001b[0;32mif\u001b[0m \u001b[0mfilename\u001b[0m\u001b[0;34m:\u001b[0m\u001b[0;34m\u001b[0m\u001b[0m\n\u001b[0;32m-> 2634\u001b[0;31m         \u001b[0mfp\u001b[0m \u001b[0;34m=\u001b[0m \u001b[0mbuiltins\u001b[0m\u001b[0;34m.\u001b[0m\u001b[0mopen\u001b[0m\u001b[0;34m(\u001b[0m\u001b[0mfilename\u001b[0m\u001b[0;34m,\u001b[0m \u001b[0;34m\"rb\"\u001b[0m\u001b[0;34m)\u001b[0m\u001b[0;34m\u001b[0m\u001b[0m\n\u001b[0m\u001b[1;32m   2635\u001b[0m         \u001b[0mexclusive_fp\u001b[0m \u001b[0;34m=\u001b[0m \u001b[0;32mTrue\u001b[0m\u001b[0;34m\u001b[0m\u001b[0m\n\u001b[1;32m   2636\u001b[0m \u001b[0;34m\u001b[0m\u001b[0m\n",
      "\u001b[0;31mFileNotFoundError\u001b[0m: [Errno 2] No such file or directory: 'Images/1Img_10.jpg'"
     ]
    }
   ],
   "source": [
    "for image in images.iter(tag='image'):\n",
    "\n",
    "    filename = image.attrib['file']\n",
    "    file_with_ext = os.path.basename(filename)\n",
    "    fname, fext = os.path.splitext(file_with_ext)\n",
    "    folder = os.path.dirname(filename)\n",
    "\n",
    "    img = Image.open(filename)\n",
    "    width, height = img.size\n",
    "    \n",
    "    writer = Writer(filename, width, height)\n",
    "\n",
    "    print('-------------------')\n",
    "    print(\"Folder:\", folder)\n",
    "    print(\"Path\", ': ', filename)\n",
    "    print(\"File name:\", fname)\n",
    "    print(\"File ext:\", fext)\n",
    "\n",
    "    print('-------------------')\n",
    "    for box in image:\n",
    "        print('Label:', box[0].text)\n",
    "        print(\"Size: None\")\n",
    "        print('top:', box.attrib['top'])\n",
    "        print('left:', box.attrib['left'])\n",
    "        print('width:', box.attrib['width'])\n",
    "        print('height:', box.attrib['height'])\n",
    "\n",
    "        writer.addObject(\n",
    "            box[0].text,\n",
    "            box.attrib['top'],\n",
    "            box.attrib['left'],\n",
    "            int(box.attrib['top']) + int(box.attrib['width']),\n",
    "            int(box.attrib['left']) + int(box.attrib['height'])\n",
    "        )\n",
    "\n",
    "        writer.save(\n",
    "            \"Annotations/{}.xml\".format(\n",
    "                os.path.splitext(file_with_ext)[0]\n",
    "            )\n",
    "        )\n",
    "\n",
    "        print('-------------------')\n",
    "        print()"
   ]
  },
  {
   "cell_type": "code",
   "execution_count": null,
   "metadata": {},
   "outputs": [],
   "source": []
  }
 ],
 "metadata": {
  "kernelspec": {
   "display_name": "Python 3",
   "language": "python",
   "name": "python3"
  },
  "language_info": {
   "codemirror_mode": {
    "name": "ipython",
    "version": 3
   },
   "file_extension": ".py",
   "mimetype": "text/x-python",
   "name": "python",
   "nbconvert_exporter": "python",
   "pygments_lexer": "ipython3",
   "version": "3.6.5"
  }
 },
 "nbformat": 4,
 "nbformat_minor": 2
}
